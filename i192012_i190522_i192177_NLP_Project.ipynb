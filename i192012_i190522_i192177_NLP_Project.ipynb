{
  "nbformat": 4,
  "nbformat_minor": 0,
  "metadata": {
    "colab": {
      "provenance": [],
      "authorship_tag": "ABX9TyPUUKN/jGiCbDsBdTZf7heC",
      "include_colab_link": true
    },
    "kernelspec": {
      "name": "python3",
      "display_name": "Python 3"
    },
    "language_info": {
      "name": "python"
    }
  },
  "cells": [
    {
      "cell_type": "markdown",
      "metadata": {
        "id": "view-in-github",
        "colab_type": "text"
      },
      "source": [
        "<a href=\"https://colab.research.google.com/github/abdullahshzd01/Attention-is-all-you-need/blob/main/i192012_i190522_i192177_NLP_Project.ipynb\" target=\"_parent\"><img src=\"https://colab.research.google.com/assets/colab-badge.svg\" alt=\"Open In Colab\"/></a>"
      ]
    },
    {
      "cell_type": "code",
      "execution_count": 5,
      "metadata": {
        "colab": {
          "base_uri": "https://localhost:8080/"
        },
        "id": "J5rSd5yYAheX",
        "outputId": "14c945e8-eeeb-4772-c9f7-8beb9ce5ee0e"
      },
      "outputs": [
        {
          "output_type": "stream",
          "name": "stdout",
          "text": [
            "Mounted at /content/drive\n"
          ]
        }
      ],
      "source": [
        "from google.colab import drive\n",
        "drive.mount('/content/drive')"
      ]
    },
    {
      "cell_type": "code",
      "source": [
        "%cd '/content/drive/My Drive/NLP_Project'"
      ],
      "metadata": {
        "colab": {
          "base_uri": "https://localhost:8080/"
        },
        "id": "Y6TCOhc6ZUIh",
        "outputId": "7263f93d-d43f-4b9a-d3c0-d210e5cb2ab8"
      },
      "execution_count": 6,
      "outputs": [
        {
          "output_type": "stream",
          "name": "stdout",
          "text": [
            "/content/drive/My Drive/NLP_Project\n"
          ]
        }
      ]
    },
    {
      "cell_type": "code",
      "source": [
        "import pandas as pd\n",
        "file_name = 'English.txt'\n",
        "filee=open(file_name)\n",
        "English_Content=[]\n",
        "for line in filee:\n",
        "  English_Content.append(line.replace('\\n',''))\n",
        "\n",
        "file_name='Urdu.txt'\n",
        "filee=open(file_name)\n",
        "Urdu_Content=[]\n",
        "for line in filee:\n",
        "  Urdu_Content.append(line.replace('\\n',''))\n",
        "\n",
        "df1 = pd.Series(English_Content)\n",
        "df2 = pd.Series(Urdu_Content)\n",
        "data=pd.concat([df1, df2], axis=1)\n",
        "data.rename(columns = {0:'English',1:'Urdu'}, inplace = True)"
      ],
      "metadata": {
        "id": "O_W-oZq9ZjPu"
      },
      "execution_count": 7,
      "outputs": []
    },
    {
      "cell_type": "code",
      "source": [
        "!pip install Keras-Preprocessing"
      ],
      "metadata": {
        "colab": {
          "base_uri": "https://localhost:8080/"
        },
        "id": "h11sHssyZ729",
        "outputId": "9edde44b-dae4-4802-fc35-6f106818d187"
      },
      "execution_count": 8,
      "outputs": [
        {
          "output_type": "stream",
          "name": "stdout",
          "text": [
            "Looking in indexes: https://pypi.org/simple, https://us-python.pkg.dev/colab-wheels/public/simple/\n",
            "Collecting Keras-Preprocessing\n",
            "  Downloading Keras_Preprocessing-1.1.2-py2.py3-none-any.whl (42 kB)\n",
            "\u001b[?25l     \u001b[90m━━━━━━━━━━━━━━━━━━━━━━━━━━━━━━━━━━━━━━━━\u001b[0m \u001b[32m0.0/42.6 kB\u001b[0m \u001b[31m?\u001b[0m eta \u001b[36m-:--:--\u001b[0m\r\u001b[2K     \u001b[90m━━━━━━━━━━━━━━━━━━━━━━━━━━━━━━━━━━━━━━━━\u001b[0m \u001b[32m42.6/42.6 kB\u001b[0m \u001b[31m2.4 MB/s\u001b[0m eta \u001b[36m0:00:00\u001b[0m\n",
            "\u001b[?25hRequirement already satisfied: six>=1.9.0 in /usr/local/lib/python3.10/dist-packages (from Keras-Preprocessing) (1.16.0)\n",
            "Requirement already satisfied: numpy>=1.9.1 in /usr/local/lib/python3.10/dist-packages (from Keras-Preprocessing) (1.22.4)\n",
            "Installing collected packages: Keras-Preprocessing\n",
            "Successfully installed Keras-Preprocessing-1.1.2\n"
          ]
        }
      ]
    },
    {
      "cell_type": "code",
      "source": [
        "import warnings\n",
        "warnings.filterwarnings('ignore')\n",
        "import string\n",
        "import re\n",
        "from unicodedata import normalize\n",
        "import numpy as np\n",
        "from keras.preprocessing.text import Tokenizer\n",
        "from keras_preprocessing.sequence import pad_sequences\n",
        "from keras.utils import to_categorical\n",
        "from keras.models import Sequential,load_model\n",
        "from keras.layers import LSTM,Dense,Embedding,RepeatVector,TimeDistributed\n",
        "from keras.callbacks import EarlyStopping\n",
        "from keras.preprocessing.text import Tokenizer\n",
        "from keras_preprocessing.sequence import pad_sequences\n",
        "from nltk.translate.bleu_score import corpus_bleu\n",
        "import pandas as pd\n",
        "from string import punctuation\n",
        "import matplotlib.pyplot as plt\n",
        "from IPython.display import Markdown, display\n",
        "def printmd(string):\n",
        "    # Print with Markdowns    \n",
        "    display(Markdown(string))"
      ],
      "metadata": {
        "id": "hdZsvVK8sV5n"
      },
      "execution_count": 9,
      "outputs": []
    },
    {
      "cell_type": "code",
      "source": [
        "dataset = data.sample(frac=1, random_state=0)\n",
        "dataset.iloc[1000:1010]"
      ],
      "metadata": {
        "colab": {
          "base_uri": "https://localhost:8080/",
          "height": 363
        },
        "id": "h3nfbTdNscBG",
        "outputId": "63301bbf-7e60-4527-a9ba-704aa5e49e1b"
      },
      "execution_count": 10,
      "outputs": [
        {
          "output_type": "execute_result",
          "data": {
            "text/plain": [
              "                                                 English  \\\n",
              "49563  Older students should attend now and there is ...   \n",
              "49733  \"I didn't want to investigate in case it was s...   \n",
              "87086  Perhaps we could simply all try it together on...   \n",
              "97372  \"If it's not against Iran, then who is it agai...   \n",
              "11049  The dollar index, which tracks the greenback a...   \n",
              "85351                              Perhaps I never will.   \n",
              "27506  Yes, Mr MacCormick, because according to my in...   \n",
              "66891                            You'll see them again.\"   \n",
              "10561  There is simply less room for blokes who put 2...   \n",
              "31701                          Let's get rid of Zarqawi.   \n",
              "\n",
              "                                                    Urdu  \n",
              "49563  پرانے طالبعلم اب یہاں حاضری دیں اور نئے طالبعل...  \n",
              "49733  \"میں اس معاملے میں تفتیش نہیں کرنا چاہتا تھا ک...  \n",
              "87086  مسٹر صدر ، شاید ہم سب مل کر ایک بار پھر کوشش ک...  \n",
              "97372  \"اگر یہ ایران کے خلاف نہیں ہے تو پھر یہ کس کے ...  \n",
              "11049  ڈالر انڈیکس ، جو اپنے ہم عمر افراد کی ٹوکری کے...  \n",
              "85351                        شاید میں کبھی نہیں کروں گا۔  \n",
              "27506  ہاں ، مسٹر میک میکرک ، کیوں کہ میری معلومات کے...  \n",
              "66891                       آپ انہیں دوبارہ دیکھیں گے۔ \"  \n",
              "10561  بلیک کے لئے صرف کم گنجائش ہے جو ہر ہفتے اپنے ج...  \n",
              "31701                       چلو زرقاوی سے تو جان چھوٹی ۔  "
            ],
            "text/html": [
              "\n",
              "  <div id=\"df-bebaa027-4548-4ecb-8783-4dbb1294e332\">\n",
              "    <div class=\"colab-df-container\">\n",
              "      <div>\n",
              "<style scoped>\n",
              "    .dataframe tbody tr th:only-of-type {\n",
              "        vertical-align: middle;\n",
              "    }\n",
              "\n",
              "    .dataframe tbody tr th {\n",
              "        vertical-align: top;\n",
              "    }\n",
              "\n",
              "    .dataframe thead th {\n",
              "        text-align: right;\n",
              "    }\n",
              "</style>\n",
              "<table border=\"1\" class=\"dataframe\">\n",
              "  <thead>\n",
              "    <tr style=\"text-align: right;\">\n",
              "      <th></th>\n",
              "      <th>English</th>\n",
              "      <th>Urdu</th>\n",
              "    </tr>\n",
              "  </thead>\n",
              "  <tbody>\n",
              "    <tr>\n",
              "      <th>49563</th>\n",
              "      <td>Older students should attend now and there is ...</td>\n",
              "      <td>پرانے طالبعلم اب یہاں حاضری دیں اور نئے طالبعل...</td>\n",
              "    </tr>\n",
              "    <tr>\n",
              "      <th>49733</th>\n",
              "      <td>\"I didn't want to investigate in case it was s...</td>\n",
              "      <td>\"میں اس معاملے میں تفتیش نہیں کرنا چاہتا تھا ک...</td>\n",
              "    </tr>\n",
              "    <tr>\n",
              "      <th>87086</th>\n",
              "      <td>Perhaps we could simply all try it together on...</td>\n",
              "      <td>مسٹر صدر ، شاید ہم سب مل کر ایک بار پھر کوشش ک...</td>\n",
              "    </tr>\n",
              "    <tr>\n",
              "      <th>97372</th>\n",
              "      <td>\"If it's not against Iran, then who is it agai...</td>\n",
              "      <td>\"اگر یہ ایران کے خلاف نہیں ہے تو پھر یہ کس کے ...</td>\n",
              "    </tr>\n",
              "    <tr>\n",
              "      <th>11049</th>\n",
              "      <td>The dollar index, which tracks the greenback a...</td>\n",
              "      <td>ڈالر انڈیکس ، جو اپنے ہم عمر افراد کی ٹوکری کے...</td>\n",
              "    </tr>\n",
              "    <tr>\n",
              "      <th>85351</th>\n",
              "      <td>Perhaps I never will.</td>\n",
              "      <td>شاید میں کبھی نہیں کروں گا۔</td>\n",
              "    </tr>\n",
              "    <tr>\n",
              "      <th>27506</th>\n",
              "      <td>Yes, Mr MacCormick, because according to my in...</td>\n",
              "      <td>ہاں ، مسٹر میک میکرک ، کیوں کہ میری معلومات کے...</td>\n",
              "    </tr>\n",
              "    <tr>\n",
              "      <th>66891</th>\n",
              "      <td>You'll see them again.\"</td>\n",
              "      <td>آپ انہیں دوبارہ دیکھیں گے۔ \"</td>\n",
              "    </tr>\n",
              "    <tr>\n",
              "      <th>10561</th>\n",
              "      <td>There is simply less room for blokes who put 2...</td>\n",
              "      <td>بلیک کے لئے صرف کم گنجائش ہے جو ہر ہفتے اپنے ج...</td>\n",
              "    </tr>\n",
              "    <tr>\n",
              "      <th>31701</th>\n",
              "      <td>Let's get rid of Zarqawi.</td>\n",
              "      <td>چلو زرقاوی سے تو جان چھوٹی ۔</td>\n",
              "    </tr>\n",
              "  </tbody>\n",
              "</table>\n",
              "</div>\n",
              "      <button class=\"colab-df-convert\" onclick=\"convertToInteractive('df-bebaa027-4548-4ecb-8783-4dbb1294e332')\"\n",
              "              title=\"Convert this dataframe to an interactive table.\"\n",
              "              style=\"display:none;\">\n",
              "        \n",
              "  <svg xmlns=\"http://www.w3.org/2000/svg\" height=\"24px\"viewBox=\"0 0 24 24\"\n",
              "       width=\"24px\">\n",
              "    <path d=\"M0 0h24v24H0V0z\" fill=\"none\"/>\n",
              "    <path d=\"M18.56 5.44l.94 2.06.94-2.06 2.06-.94-2.06-.94-.94-2.06-.94 2.06-2.06.94zm-11 1L8.5 8.5l.94-2.06 2.06-.94-2.06-.94L8.5 2.5l-.94 2.06-2.06.94zm10 10l.94 2.06.94-2.06 2.06-.94-2.06-.94-.94-2.06-.94 2.06-2.06.94z\"/><path d=\"M17.41 7.96l-1.37-1.37c-.4-.4-.92-.59-1.43-.59-.52 0-1.04.2-1.43.59L10.3 9.45l-7.72 7.72c-.78.78-.78 2.05 0 2.83L4 21.41c.39.39.9.59 1.41.59.51 0 1.02-.2 1.41-.59l7.78-7.78 2.81-2.81c.8-.78.8-2.07 0-2.86zM5.41 20L4 18.59l7.72-7.72 1.47 1.35L5.41 20z\"/>\n",
              "  </svg>\n",
              "      </button>\n",
              "      \n",
              "  <style>\n",
              "    .colab-df-container {\n",
              "      display:flex;\n",
              "      flex-wrap:wrap;\n",
              "      gap: 12px;\n",
              "    }\n",
              "\n",
              "    .colab-df-convert {\n",
              "      background-color: #E8F0FE;\n",
              "      border: none;\n",
              "      border-radius: 50%;\n",
              "      cursor: pointer;\n",
              "      display: none;\n",
              "      fill: #1967D2;\n",
              "      height: 32px;\n",
              "      padding: 0 0 0 0;\n",
              "      width: 32px;\n",
              "    }\n",
              "\n",
              "    .colab-df-convert:hover {\n",
              "      background-color: #E2EBFA;\n",
              "      box-shadow: 0px 1px 2px rgba(60, 64, 67, 0.3), 0px 1px 3px 1px rgba(60, 64, 67, 0.15);\n",
              "      fill: #174EA6;\n",
              "    }\n",
              "\n",
              "    [theme=dark] .colab-df-convert {\n",
              "      background-color: #3B4455;\n",
              "      fill: #D2E3FC;\n",
              "    }\n",
              "\n",
              "    [theme=dark] .colab-df-convert:hover {\n",
              "      background-color: #434B5C;\n",
              "      box-shadow: 0px 1px 3px 1px rgba(0, 0, 0, 0.15);\n",
              "      filter: drop-shadow(0px 1px 2px rgba(0, 0, 0, 0.3));\n",
              "      fill: #FFFFFF;\n",
              "    }\n",
              "  </style>\n",
              "\n",
              "      <script>\n",
              "        const buttonEl =\n",
              "          document.querySelector('#df-bebaa027-4548-4ecb-8783-4dbb1294e332 button.colab-df-convert');\n",
              "        buttonEl.style.display =\n",
              "          google.colab.kernel.accessAllowed ? 'block' : 'none';\n",
              "\n",
              "        async function convertToInteractive(key) {\n",
              "          const element = document.querySelector('#df-bebaa027-4548-4ecb-8783-4dbb1294e332');\n",
              "          const dataTable =\n",
              "            await google.colab.kernel.invokeFunction('convertToInteractive',\n",
              "                                                     [key], {});\n",
              "          if (!dataTable) return;\n",
              "\n",
              "          const docLinkHtml = 'Like what you see? Visit the ' +\n",
              "            '<a target=\"_blank\" href=https://colab.research.google.com/notebooks/data_table.ipynb>data table notebook</a>'\n",
              "            + ' to learn more about interactive tables.';\n",
              "          element.innerHTML = '';\n",
              "          dataTable['output_type'] = 'display_data';\n",
              "          await google.colab.output.renderOutput(dataTable, element);\n",
              "          const docLink = document.createElement('div');\n",
              "          docLink.innerHTML = docLinkHtml;\n",
              "          element.appendChild(docLink);\n",
              "        }\n",
              "      </script>\n",
              "    </div>\n",
              "  </div>\n",
              "  "
            ]
          },
          "metadata": {},
          "execution_count": 10
        }
      ]
    },
    {
      "cell_type": "code",
      "source": [
        "total_sentences = 1000\n",
        "test_proportion = 0.1\n",
        "train_test_threshold = int( (1-test_proportion) * total_sentences)\n",
        "\n",
        "printmd(f'## {total_sentences} \"parallel sentences\" will be loaded (original sentence + its translation)')\n",
        "printmd(f'## {train_test_threshold} \"parallel sentences\" will be used to train the model')\n",
        "printmd(f'## {total_sentences-train_test_threshold} \"parallel sentences\" will be used to test the model')"
      ],
      "metadata": {
        "colab": {
          "base_uri": "https://localhost:8080/",
          "height": 151
        },
        "id": "pX1wyBU3sfFG",
        "outputId": "c4cddbdb-1e4a-423e-ed05-bc7c17a783f5"
      },
      "execution_count": 11,
      "outputs": [
        {
          "output_type": "display_data",
          "data": {
            "text/plain": [
              "<IPython.core.display.Markdown object>"
            ],
            "text/markdown": "## 1000 \"parallel sentences\" will be loaded (original sentence + its translation)"
          },
          "metadata": {}
        },
        {
          "output_type": "display_data",
          "data": {
            "text/plain": [
              "<IPython.core.display.Markdown object>"
            ],
            "text/markdown": "## 900 \"parallel sentences\" will be used to train the model"
          },
          "metadata": {}
        },
        {
          "output_type": "display_data",
          "data": {
            "text/plain": [
              "<IPython.core.display.Markdown object>"
            ],
            "text/markdown": "## 100 \"parallel sentences\" will be used to test the model"
          },
          "metadata": {}
        }
      ]
    },
    {
      "cell_type": "code",
      "source": [
        "def clean(string):\n",
        "    # Clean the string\n",
        "    string = str(string).replace(\"\\u202f\",\" \") # Replace no-break space with space\n",
        "    string = string.lower()\n",
        "    \n",
        "    # Delete the punctuation and the numbers\n",
        "    for p in punctuation + \"«»\" + \"0123456789\":\n",
        "        string = string.replace(p,\" \")\n",
        "        \n",
        "    string = re.sub('\\s+',' ', string)\n",
        "    string = string.strip()\n",
        "           \n",
        "    return string\n",
        "\n",
        "\n",
        "# Clean the sentences\n",
        "dataset[\"English\"] = dataset[\"English\"].apply(lambda x: clean(x))\n",
        "dataset[\"Urdu\"] = dataset[\"Urdu\"].apply(lambda x: clean(x))\n",
        "\n",
        "# Select one part of the dataset\n",
        "dataset = dataset.values\n",
        "dataset = dataset[:total_sentences]\n",
        "\n",
        "# split into train/test\n",
        "train, test = dataset[:train_test_threshold], dataset[train_test_threshold:]\n",
        "\n",
        "# Define the name of the source and of the target\n",
        "# This will be used in the outputs of this notebook\n",
        "source_str, target_str = \"Urdu\", \"English\"\n",
        "\n",
        "# The index in the numpy array of the source and of the target\n",
        "idx_src, idx_tar = 1, 0"
      ],
      "metadata": {
        "id": "IIS8dAxWs1xm"
      },
      "execution_count": 12,
      "outputs": []
    },
    {
      "cell_type": "code",
      "source": [
        "pd.DataFrame(dataset[1000:1010])"
      ],
      "metadata": {
        "colab": {
          "base_uri": "https://localhost:8080/",
          "height": 49
        },
        "id": "LkqJpEqQtNHP",
        "outputId": "0e1048ba-2943-4ea8-c31f-68715556c91c"
      },
      "execution_count": 13,
      "outputs": [
        {
          "output_type": "execute_result",
          "data": {
            "text/plain": [
              "Empty DataFrame\n",
              "Columns: [0, 1]\n",
              "Index: []"
            ],
            "text/html": [
              "\n",
              "  <div id=\"df-53b25a50-ad23-4b43-8207-d5a644c9faf8\">\n",
              "    <div class=\"colab-df-container\">\n",
              "      <div>\n",
              "<style scoped>\n",
              "    .dataframe tbody tr th:only-of-type {\n",
              "        vertical-align: middle;\n",
              "    }\n",
              "\n",
              "    .dataframe tbody tr th {\n",
              "        vertical-align: top;\n",
              "    }\n",
              "\n",
              "    .dataframe thead th {\n",
              "        text-align: right;\n",
              "    }\n",
              "</style>\n",
              "<table border=\"1\" class=\"dataframe\">\n",
              "  <thead>\n",
              "    <tr style=\"text-align: right;\">\n",
              "      <th></th>\n",
              "      <th>0</th>\n",
              "      <th>1</th>\n",
              "    </tr>\n",
              "  </thead>\n",
              "  <tbody>\n",
              "  </tbody>\n",
              "</table>\n",
              "</div>\n",
              "      <button class=\"colab-df-convert\" onclick=\"convertToInteractive('df-53b25a50-ad23-4b43-8207-d5a644c9faf8')\"\n",
              "              title=\"Convert this dataframe to an interactive table.\"\n",
              "              style=\"display:none;\">\n",
              "        \n",
              "  <svg xmlns=\"http://www.w3.org/2000/svg\" height=\"24px\"viewBox=\"0 0 24 24\"\n",
              "       width=\"24px\">\n",
              "    <path d=\"M0 0h24v24H0V0z\" fill=\"none\"/>\n",
              "    <path d=\"M18.56 5.44l.94 2.06.94-2.06 2.06-.94-2.06-.94-.94-2.06-.94 2.06-2.06.94zm-11 1L8.5 8.5l.94-2.06 2.06-.94-2.06-.94L8.5 2.5l-.94 2.06-2.06.94zm10 10l.94 2.06.94-2.06 2.06-.94-2.06-.94-.94-2.06-.94 2.06-2.06.94z\"/><path d=\"M17.41 7.96l-1.37-1.37c-.4-.4-.92-.59-1.43-.59-.52 0-1.04.2-1.43.59L10.3 9.45l-7.72 7.72c-.78.78-.78 2.05 0 2.83L4 21.41c.39.39.9.59 1.41.59.51 0 1.02-.2 1.41-.59l7.78-7.78 2.81-2.81c.8-.78.8-2.07 0-2.86zM5.41 20L4 18.59l7.72-7.72 1.47 1.35L5.41 20z\"/>\n",
              "  </svg>\n",
              "      </button>\n",
              "      \n",
              "  <style>\n",
              "    .colab-df-container {\n",
              "      display:flex;\n",
              "      flex-wrap:wrap;\n",
              "      gap: 12px;\n",
              "    }\n",
              "\n",
              "    .colab-df-convert {\n",
              "      background-color: #E8F0FE;\n",
              "      border: none;\n",
              "      border-radius: 50%;\n",
              "      cursor: pointer;\n",
              "      display: none;\n",
              "      fill: #1967D2;\n",
              "      height: 32px;\n",
              "      padding: 0 0 0 0;\n",
              "      width: 32px;\n",
              "    }\n",
              "\n",
              "    .colab-df-convert:hover {\n",
              "      background-color: #E2EBFA;\n",
              "      box-shadow: 0px 1px 2px rgba(60, 64, 67, 0.3), 0px 1px 3px 1px rgba(60, 64, 67, 0.15);\n",
              "      fill: #174EA6;\n",
              "    }\n",
              "\n",
              "    [theme=dark] .colab-df-convert {\n",
              "      background-color: #3B4455;\n",
              "      fill: #D2E3FC;\n",
              "    }\n",
              "\n",
              "    [theme=dark] .colab-df-convert:hover {\n",
              "      background-color: #434B5C;\n",
              "      box-shadow: 0px 1px 3px 1px rgba(0, 0, 0, 0.15);\n",
              "      filter: drop-shadow(0px 1px 2px rgba(0, 0, 0, 0.3));\n",
              "      fill: #FFFFFF;\n",
              "    }\n",
              "  </style>\n",
              "\n",
              "      <script>\n",
              "        const buttonEl =\n",
              "          document.querySelector('#df-53b25a50-ad23-4b43-8207-d5a644c9faf8 button.colab-df-convert');\n",
              "        buttonEl.style.display =\n",
              "          google.colab.kernel.accessAllowed ? 'block' : 'none';\n",
              "\n",
              "        async function convertToInteractive(key) {\n",
              "          const element = document.querySelector('#df-53b25a50-ad23-4b43-8207-d5a644c9faf8');\n",
              "          const dataTable =\n",
              "            await google.colab.kernel.invokeFunction('convertToInteractive',\n",
              "                                                     [key], {});\n",
              "          if (!dataTable) return;\n",
              "\n",
              "          const docLinkHtml = 'Like what you see? Visit the ' +\n",
              "            '<a target=\"_blank\" href=https://colab.research.google.com/notebooks/data_table.ipynb>data table notebook</a>'\n",
              "            + ' to learn more about interactive tables.';\n",
              "          element.innerHTML = '';\n",
              "          dataTable['output_type'] = 'display_data';\n",
              "          await google.colab.output.renderOutput(dataTable, element);\n",
              "          const docLink = document.createElement('div');\n",
              "          docLink.innerHTML = docLinkHtml;\n",
              "          element.appendChild(docLink);\n",
              "        }\n",
              "      </script>\n",
              "    </div>\n",
              "  </div>\n",
              "  "
            ]
          },
          "metadata": {},
          "execution_count": 13
        }
      ]
    },
    {
      "cell_type": "code",
      "source": [
        "import tensorflow as tf\n",
        "from tensorflow.python.keras import backend as K\n",
        "\n",
        "# adjust values to your needs\n",
        "config = tf.compat.v1.ConfigProto( device_count = {'GPU': 0 , 'CPU': 4} )\n",
        "sess = tf.compat.v1.Session(config=config) \n",
        "K.set_session(sess)"
      ],
      "metadata": {
        "id": "6bw05piYtQl1"
      },
      "execution_count": 14,
      "outputs": []
    },
    {
      "cell_type": "code",
      "source": [
        "def create_tokenizer(lines):\n",
        "    # fit a tokenizer\n",
        "    tokenizer = Tokenizer()\n",
        "    tokenizer.fit_on_texts(lines)\n",
        "    return tokenizer\n",
        " \n",
        "def max_len(lines):\n",
        "    # max sentence length\n",
        "    return max(len(line.split()) for line in lines)\n",
        "\n",
        "def encode_sequences(tokenizer, length, lines):\n",
        "    # encode and pad sequences\n",
        "    X = tokenizer.texts_to_sequences(lines) # integer encode sequences\n",
        "    X = pad_sequences(X, maxlen=length, padding='post') # pad sequences with 0 values\n",
        "    return X\n",
        " \n",
        "def encode_output(sequences, vocab_size):\n",
        "    # one hot encode target sequence\n",
        "    ylist = list()\n",
        "    for sequence in sequences:\n",
        "        encoded = to_categorical(sequence, num_classes=vocab_size)\n",
        "        ylist.append(encoded)\n",
        "    y = np.array(ylist)\n",
        "    y = y.reshape(sequences.shape[0], sequences.shape[1], vocab_size)\n",
        "    return y\n",
        " \n",
        "# Prepare target tokenizer\n",
        "tar_tokenizer = create_tokenizer(dataset[:, idx_tar])\n",
        "tar_vocab_size = len(tar_tokenizer.word_index) + 1\n",
        "tar_length = max_len(dataset[:, idx_tar])\n",
        "printmd(f'\\nTarget ({target_str}) Vocabulary Size: {tar_vocab_size}')\n",
        "printmd(f'Target ({target_str}) Max Length: {tar_length}')\n",
        "\n",
        "# Prepare source tokenizer\n",
        "src_tokenizer = create_tokenizer(dataset[:, idx_src])\n",
        "src_vocab_size = len(src_tokenizer.word_index) + 1\n",
        "src_length = max_len(dataset[:, idx_src])\n",
        "printmd(f'\\nSource ({source_str}) Vocabulary Size: {src_vocab_size}')\n",
        "printmd(f'Source ({source_str}) Max Length: {src_length}\\n')\n",
        " \n",
        "# Prepare training data\n",
        "trainX = encode_sequences(src_tokenizer, src_length, train[:, idx_src])\n",
        "trainY = encode_sequences(tar_tokenizer, tar_length, train[:, idx_tar])\n",
        "trainY = encode_output(trainY, tar_vocab_size)\n",
        "\n",
        "# Prepare test data\n",
        "testX = encode_sequences(src_tokenizer, src_length, test[:, idx_src])\n",
        "testY = encode_sequences(tar_tokenizer, tar_length, test[:, idx_tar])\n",
        "testY = encode_output(testY, tar_vocab_size)"
      ],
      "metadata": {
        "colab": {
          "base_uri": "https://localhost:8080/",
          "height": 116
        },
        "id": "cVP5EvYT4aCz",
        "outputId": "b33ae6f4-fba0-4dae-a656-ddb16afa7637"
      },
      "execution_count": 15,
      "outputs": [
        {
          "output_type": "display_data",
          "data": {
            "text/plain": [
              "<IPython.core.display.Markdown object>"
            ],
            "text/markdown": "\nTarget (English) Vocabulary Size: 3872"
          },
          "metadata": {}
        },
        {
          "output_type": "display_data",
          "data": {
            "text/plain": [
              "<IPython.core.display.Markdown object>"
            ],
            "text/markdown": "Target (English) Max Length: 28"
          },
          "metadata": {}
        },
        {
          "output_type": "display_data",
          "data": {
            "text/plain": [
              "<IPython.core.display.Markdown object>"
            ],
            "text/markdown": "\nSource (Urdu) Vocabulary Size: 3809"
          },
          "metadata": {}
        },
        {
          "output_type": "display_data",
          "data": {
            "text/plain": [
              "<IPython.core.display.Markdown object>"
            ],
            "text/markdown": "Source (Urdu) Max Length: 98\n"
          },
          "metadata": {}
        }
      ]
    },
    {
      "cell_type": "code",
      "source": [
        "def create_model(src_vocab, tar_vocab, src_timesteps, tar_timesteps, n_units):\n",
        "    # Create the model\n",
        "    model = Sequential()\n",
        "    model.add(Embedding(src_vocab, n_units, input_length=src_timesteps, mask_zero=True))\n",
        "    model.add(LSTM(n_units))\n",
        "    model.add(RepeatVector(tar_timesteps))\n",
        "    model.add(LSTM(n_units, return_sequences=True))\n",
        "    model.add(TimeDistributed(Dense(tar_vocab, activation='softmax')))\n",
        "    return model\n",
        " \n",
        "# Create model\n",
        "model = create_model(src_vocab_size, tar_vocab_size, src_length, tar_length, 256)\n",
        "model.compile(optimizer='adam', loss='categorical_crossentropy')\n",
        "\n",
        "history = model.fit(trainX, \n",
        "          trainY, \n",
        "          epochs=200, \n",
        "          batch_size=64, \n",
        "          validation_split=0.1, \n",
        "          verbose=1,\n",
        "          callbacks=[\n",
        "                        EarlyStopping(\n",
        "                        monitor='val_loss',\n",
        "                        patience=2,\n",
        "                        restore_best_weights=True\n",
        "                    )\n",
        "            ])"
      ],
      "metadata": {
        "colab": {
          "base_uri": "https://localhost:8080/"
        },
        "id": "UULaObOF4giv",
        "outputId": "a5618496-654b-4ae9-95f3-a78cd7dfcf64"
      },
      "execution_count": 16,
      "outputs": [
        {
          "output_type": "stream",
          "name": "stdout",
          "text": [
            "Epoch 1/200\n",
            "13/13 [==============================] - 30s 2s/step - loss: 7.1492 - val_loss: 4.4781\n",
            "Epoch 2/200\n",
            "13/13 [==============================] - 19s 1s/step - loss: 4.0117 - val_loss: 4.1360\n",
            "Epoch 3/200\n",
            "13/13 [==============================] - 21s 2s/step - loss: 3.8606 - val_loss: 4.1356\n",
            "Epoch 4/200\n",
            "13/13 [==============================] - 20s 2s/step - loss: 3.7496 - val_loss: 4.0615\n",
            "Epoch 5/200\n",
            "13/13 [==============================] - 19s 1s/step - loss: 3.6753 - val_loss: 3.9489\n",
            "Epoch 6/200\n",
            "13/13 [==============================] - 21s 2s/step - loss: 3.6125 - val_loss: 3.8859\n",
            "Epoch 7/200\n",
            "13/13 [==============================] - 19s 1s/step - loss: 3.5419 - val_loss: 3.9204\n",
            "Epoch 8/200\n",
            "13/13 [==============================] - 19s 1s/step - loss: 3.5022 - val_loss: 3.8757\n",
            "Epoch 9/200\n",
            "13/13 [==============================] - 23s 2s/step - loss: 3.5169 - val_loss: 3.8337\n",
            "Epoch 10/200\n",
            "13/13 [==============================] - 19s 1s/step - loss: 3.5076 - val_loss: 3.8055\n",
            "Epoch 11/200\n",
            "13/13 [==============================] - 29s 2s/step - loss: 3.4994 - val_loss: 3.7999\n",
            "Epoch 12/200\n",
            "13/13 [==============================] - 25s 2s/step - loss: 3.5107 - val_loss: 3.9257\n",
            "Epoch 13/200\n",
            "13/13 [==============================] - 19s 1s/step - loss: 3.5317 - val_loss: 3.9257\n"
          ]
        }
      ]
    },
    {
      "cell_type": "code",
      "source": [
        "pd.DataFrame(history.history).plot()\n",
        "plt.title(\"Loss\")\n",
        "plt.show()"
      ],
      "metadata": {
        "colab": {
          "base_uri": "https://localhost:8080/",
          "height": 452
        },
        "id": "Dzc7U9Qi4l_A",
        "outputId": "cf62a824-8dcc-4f39-f79d-d148fcd38abb"
      },
      "execution_count": 17,
      "outputs": [
        {
          "output_type": "display_data",
          "data": {
            "text/plain": [
              "<Figure size 640x480 with 1 Axes>"
            ],
            "image/png": "[encoded data removed]"
          },
          "metadata": {}
        }
      ]
    },
    {
      "cell_type": "code",
      "source": [
        "def word_for_id(integer, tokenizer):\n",
        "    # map an integer to a word\n",
        "    for word, index in tokenizer.word_index.items():\n",
        "        if index == integer:\n",
        "            return word\n",
        "    return None"
      ],
      "metadata": {
        "id": "q6TBGAi25pGR"
      },
      "execution_count": 18,
      "outputs": []
    },
    {
      "cell_type": "code",
      "source": [
        "def predict_seq(model, tokenizer, source):\n",
        "    # generate target from a source sequence\n",
        "    prediction = model.predict(source, verbose=0)[0]\n",
        "    integers = [np.argmax(vector) for vector in prediction]\n",
        "    target = list()\n",
        "    for i in integers:\n",
        "        word = word_for_id(i, tokenizer)\n",
        "        if word is None:\n",
        "            break\n",
        "        target.append(word)\n",
        "    return ' '.join(target)"
      ],
      "metadata": {
        "id": "6k_vUIzzmIUJ"
      },
      "execution_count": 19,
      "outputs": []
    },
    {
      "cell_type": "code",
      "source": [
        "def compare_prediction(model, tokenizer, sources, raw_dataset, limit=20):\n",
        "    # evaluate a model\n",
        "    actual, predicted = [], []\n",
        "    src = f'{source_str.upper()} (SOURCE)'\n",
        "    tgt = f'{target_str.upper()} (TARGET)'\n",
        "    pred = f'AUTOMATIC TRANSLATION IN {target_str.upper()}'\n",
        "    print(f'{src:30} {tgt:25} {pred}\\n')\n",
        "    \n",
        "    for i, source in enumerate(sources): # translate encoded source text\n",
        "        source = source.reshape((1, source.shape[0]))\n",
        "        translation = predict_seq(model, tar_tokenizer, source)\n",
        "        raw_target, raw_src = raw_dataset[i]\n",
        "        print(f'{raw_src:30} {raw_target:25} {translation}')\n",
        "        if i >= limit: # Display some of the result\n",
        "            break"
      ],
      "metadata": {
        "id": "oJHAds0VmKSc"
      },
      "execution_count": 20,
      "outputs": []
    },
    {
      "cell_type": "code",
      "source": [
        "# test on some training sequences\n",
        "print('### Result on the Training Set ###')\n",
        "compare_prediction(model, tar_tokenizer, trainX, train)"
      ],
      "metadata": {
        "colab": {
          "base_uri": "https://localhost:8080/"
        },
        "id": "hiHCqXU6mNV9",
        "outputId": "3f3932d3-f9cb-4542-d257-fe0de9c0999d"
      },
      "execution_count": 21,
      "outputs": [
        {
          "output_type": "stream",
          "name": "stdout",
          "text": [
            "### Result on the Training Set ###\n",
            "URDU (SOURCE)                  ENGLISH (TARGET)          AUTOMATIC TRANSLATION IN ENGLISH\n",
            "\n",
            "خاموش رہنا ۔                   hold one s peace tongue   \n",
            "دن کے آخر میں یہ پرانے زمانے کی اخلاقیات کی طرف آتا ہے۔ at the end of the day it comes back to old fashioned ethics the the the the the\n",
            "گالی دینا ۔ مشکل الفاظ ۔       hard words                the\n",
            "یوروپیائی پارلیمنٹ نے apply • îœî s کا اطلاق کرنے کا فیصلہ کیا ہے اور ہم کونسل کی بھی یہی امید رکھتے ہیں۔ the european parliament has decided to apply the îîîs and we expect the same of the council the the the the the the the\n",
            "سادہ ۔                         in simple phrase          \n",
            "دوا کی گولیوں پر قند چڑھانے کی کیا ضرورت تھی اگر وہ کڑوی نہ ہوتیں ؟ apothecaries would not sugar their pills unless they were bitter the the the the the\n",
            "ویووا کے مہمات کے منیجر جسٹن کیرسویل نے کہا کیا برطانیہ میں ڈیری فارمنگ کوئی کم ڈوب سکتی ہے؟ justin kerswell campaigns manager for viva said can dairy farming in the uk sink any lower the the the the the the\n",
            "انتہائی مشکل معاشی ماحول نے فضائی امریکہ کے کاروبار پر نمایاں اثر ڈالا ہے۔ the very difficult economic environment has had a significant impact on air america s business the the the the the\n",
            "فریقین کی تحقیقات کے دوران ماہرین کے ذریعہ مختلف طبی نظریات کا اظہار کیا گیا اور یہ سلسلہ حال ہی میں جاری رہا۔ during the investigations by parties there were differing medical views expressed by experts and that continued until very recently the the the the the the the the\n",
            "مجھے متعدد مشاہدات پیش کرنے دیں۔ let me offer a number of observations the the\n",
            "frisky چیزوں کو پہلی تاریخ پر کبھی نہیں پہننا the frisky things never to wear on a first date the the the the\n",
            "مجھے بہت خوشی ہے کہ کمیشن بھی اس بات کو تسلیم کرتا ہے۔ i am very glad that the commission also acknowledges that the the the the the\n",
            "میں نے فوری طور پر بہتر محسوس کیا ، اور اس کے بعد کبھی بھی کسی غذائی ماہر سے مشورہ نہیں کیا ہے۔ i immediately felt better and have never consulted a dietary expert since the the the the the the the\n",
            "ترمیم بھی کام سے متعلق حادثات اور بیماریوں کے اعدادوشمار کی ہم آہنگی کے فروغ کی ضرورت کی نشاندہی کرتی ہے ، جو ایک اہم نکتہ ہے۔ amendment also underlines the need for the promotion of the harmonisation of statistics on work related accidents and illnesses a crucial point the the the the the the the the the\n",
            "پروگرام میں شریک افراد صحت کی دیکھ بھال میں بہتری کے لئے بہترین طریقوں کو تیار کرنے کے لئے ڈیٹا بانٹیں گے۔ participants in the program will share data to develop the best practices for health care improvement the the the the the the the\n",
            "مسٹر گربراینڈی نے بجٹ کے معاملات پر دونوں حضرات کے باہمی کنٹرول کے ساتھ شریف آدمی کے معاہدے کے بغیر آگے بڑھنے کی ضرورت کے بارے میں پوچھا۔ mr gerbrandy asked about the need to move forward with mutual control by both institutions on budgetary issues without a gentlemen s agreement the the the the the the the the the\n",
            "جون کی تحریک در حقیقت ، یوروپی آئین دیکھنا نہیں چاہتی ہے جو قومی دستور کو فوقیت دیتی ہے۔ the june movement does not in fact wish to see a european constitution that will take precedence over the national constitutions the the the the the the the the\n",
            "سوتے شیر کو نہ جگاوٴ ۔         do not fan the dying embers the the\n",
            "ہم جنگل سے باہر ہونے سے دور ہیں۔ we are far from being out of the woods the the the\n",
            "میرا مطلب ہے ، چارلی کرسٹ بہت مایوسی کا شکار رہا ہے ، کیونکہ وہ اپنی ذاتی خواہش کی بناء پر اپنی حیثیت بدل دے گا۔ i mean charlie crist has been such a disappointment because he will shift his position for his own personal ambition the the the the the the the the\n",
            "بدقسمتی سے میرے پاس اتنا بولنے کا وقت نہیں ہے جتنا یوروپی کونسل کے صدر اور کمیشن کے صدر کا۔ unfortunately i do not have as much speaking time as the president of the european council and the president of the commission the the the the the the the the\n"
          ]
        }
      ]
    },
    {
      "cell_type": "code",
      "source": [
        "# test on some test sequences\n",
        "print('\\n\\n### Result on the Test Set ###')\n",
        "compare_prediction(model, tar_tokenizer, testX, test)"
      ],
      "metadata": {
        "id": "n_UZnJbHmWnt",
        "colab": {
          "base_uri": "https://localhost:8080/"
        },
        "outputId": "76430556-4554-49e4-aa62-c21d9049d23c"
      },
      "execution_count": 22,
      "outputs": [
        {
          "output_type": "stream",
          "name": "stdout",
          "text": [
            "\n",
            "\n",
            "### Result on the Test Set ###\n",
            "URDU (SOURCE)                  ENGLISH (TARGET)          AUTOMATIC TRANSLATION IN ENGLISH\n",
            "\n",
            "جیسا باپ ویسا بیٹا ۔           he is his father s son    \n",
            "ایم ٹی مسٹر صدر ، میں بھی امیگریشن کے بارے میں بات کروں گا۔ mt mr president i too will be speaking about immigration the the the the the\n",
            "در حقیقت ، اس کے برعکس معاملہ ہے ایک چیک کے طور پر ، میں بھی یوروپی ہوں۔ in fact the opposite is the case as a czech i am also a european the the the the the the\n",
            "رابرٹ کی حقیقت میں اس کے گیراج میں ایک پروٹو ٹائپ تھی۔ robert actually had a prototype in his garage ” the the the the the\n",
            "اس کا بانڈ پچاس لاکھ ڈالر ہے۔  his bond is set at million the the the\n",
            "ناتارنگ ، مہاراشٹرا کے ایک لوک رقص کے بارے میں بننے والی فلم ، بہت سارے معاملات میں راہ توڑنے والا ثابت ہورہی ہے۔ natarang a film about a folk dance of maharashtra is proving to be a path breaker on many counts the the the the the the the the\n",
            "جیری براؤن مسلسل اس کی ناک کو سیاسی اسٹیبلشمنٹ میں چھپا رہا تھا ، اس کے والد ، پیٹ براؤن ، جو ایک قدیم اسکول کے سابقہ ​​گورنر کے ساتھ مجسم تھا۔ jerry brown was continually snubbing his nose at the political establishment embodied by his father pat brown an admired old school former governor the the the the the the the the the\n",
            "انہوں نے بتایا کہ فیصد سے زیادہ پلے بوائے لائسنس یافتہ مصنوعات خواتین خریدتی ہیں۔ over of playboy licensed products are purchased by women he says the the the the the\n",
            "مجھے ہمارے ملک میں دائیں بازو کی جماعتوں کے ذریعہ دہشت زدہ کرنے کی ضرورت نہیں ہے۔ i am not going to be terrorised by right wingers in our country the the the the the the\n",
            "خوش شخص ۔                      the jolly fool            \n",
            "اب ، قانونی حیثیت دینے کے حامی موجودہ بین الاقوامی معاہدوں کو چیلنج کر رہے ہیں۔ now the advocates of legalisation are going further and challenging existing international agreements the the the the the the\n",
            "یہ سمجھنا اتنا مشکل کیوں ہے؟   why is that so hard to understand the the\n",
            "دو کے باپ سے لے لو۔            take it from a father of two the the\n",
            "میں نے اس سال ایک مضبوط بنیاد کی تعمیر کے لئے، عمارت بلاک کے آغاز ہو جائے گا امید ہے کہ، انہوں نے کہا i hope this year will be the start of the building block to build a strong foundation he said the the the the the the the the\n",
            "یہ کمپیوٹر ایک گھنٹے میں وہ کچھ کر سکتا ہے جو دستی کیلکیولیٹر کے ساتھ کام کرنے والے چھ اعشاریہ سات ارب افراد کو کرنے میں تین سو بیس سال لگیں گے ۔ this computer can do in an hour what it would take years for billion people to work with a manual calculator the the the the the the the the the\n",
            "دوسروں کے ل investment ، جیسے کہ سرمایہ کاری بینکر لہمن بھائیوں یا تقریبا دو درجن ہمارے علاقائی بینکوں کے معاملے کی طرح ، دیوالیہ پن ہی ممکن واحد آپشن تھا۔ for others like the case of investment banker lehman brothers or almost two dozen us regional banks bankruptcy was the only option possible the the the the the the the the the\n",
            "لنگڑے آدمی کی نسبت جھوٹ جلد تر پکڑا جاتا ہے ۔ the liar is sooner caught than the cripple the the the the\n",
            "لیکن اس نے سرجری کروانا ہے اور پھر ہم دیکھیں گے۔ but he s got to get through the surgery and then we ll see the the the the\n",
            "ایک ترجمان نے کہا ہمیں جو مدد مل رہی ہے اس سے ظاہر ہوتا ہے کہ لوگ اس کے بارے میں کس قدر شدت سے محسوس کرتے ہیں اور انتظامیہ کی طرف سے کی جانے والی غنڈہ گردی کے باوجود بھی۔ a spokesman said the support we are getting shows how strongly people feel about this and is in spite of the bullying by management the the the the the the the the the the\n",
            "حصہ ii                         part ii                   \n",
            "ابھی تھک گیا ہوں ۔             just tired                the\n"
          ]
        }
      ]
    },
    {
      "cell_type": "code",
      "source": [],
      "metadata": {
        "id": "tZZGUSN-xBY_"
      },
      "execution_count": null,
      "outputs": []
    }
  ]
}