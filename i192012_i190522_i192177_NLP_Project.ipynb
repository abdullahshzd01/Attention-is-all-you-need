{
  "nbformat": 4,
  "nbformat_minor": 0,
  "metadata": {
    "colab": {
      "provenance": [],
      "authorship_tag": "ABX9TyOc5itjkfIgSAVRdifoq8Nr",
      "include_colab_link": true
    },
    "kernelspec": {
      "name": "python3",
      "display_name": "Python 3"
    },
    "language_info": {
      "name": "python"
    }
  },
  "cells": [
    {
      "cell_type": "markdown",
      "metadata": {
        "id": "view-in-github",
        "colab_type": "text"
      },
      "source": [
        "<a href=\"https://colab.research.google.com/github/abdullahshzd01/Attention-is-all-you-need/blob/main/i192012_i190522_i192177_NLP_Project.ipynb\" target=\"_parent\"><img src=\"https://colab.research.google.com/assets/colab-badge.svg\" alt=\"Open In Colab\"/></a>"
      ]
    },
    {
      "cell_type": "code",
      "execution_count": 1,
      "metadata": {
        "colab": {
          "base_uri": "https://localhost:8080/"
        },
        "id": "J5rSd5yYAheX",
        "outputId": "5c72993d-cbb3-41f5-bfc3-2decdb755b4d"
      },
      "outputs": [
        {
          "output_type": "stream",
          "name": "stdout",
          "text": [
            "Mounted at /content/drive\n"
          ]
        }
      ],
      "source": [
        "from google.colab import drive\n",
        "drive.mount('/content/drive')"
      ]
    },
    {
      "cell_type": "code",
      "source": [
        "%cd '/content/drive/My Drive/NLP_Project'"
      ],
      "metadata": {
        "colab": {
          "base_uri": "https://localhost:8080/"
        },
        "id": "Y6TCOhc6ZUIh",
        "outputId": "2a4ae1b4-3581-4d85-ac3b-00f0f0e7e014"
      },
      "execution_count": 3,
      "outputs": [
        {
          "output_type": "stream",
          "name": "stdout",
          "text": [
            "/content/drive/My Drive/NLP_Project\n"
          ]
        }
      ]
    },
    {
      "cell_type": "code",
      "source": [
        "import pandas as pd\n",
        "file_name = 'English.txt'\n",
        "filee=open(file_name)\n",
        "English_Content=[]\n",
        "for line in filee:\n",
        "  English_Content.append(line.replace('\\n',''))\n",
        "\n",
        "file_name='Urdu.txt'\n",
        "filee=open(file_name)\n",
        "Urdu_Content=[]\n",
        "for line in filee:\n",
        "  Urdu_Content.append(line.replace('\\n',''))\n",
        "\n",
        "df1 = pd.Series(English_Content)\n",
        "df2 = pd.Series(Urdu_Content)\n",
        "data=pd.concat([df1, df2], axis=1)\n",
        "data.rename(columns = {0:'English',1:'Urdu'}, inplace = True)"
      ],
      "metadata": {
        "id": "O_W-oZq9ZjPu"
      },
      "execution_count": 11,
      "outputs": []
    },
    {
      "cell_type": "code",
      "source": [
        "!pip install Keras-Preprocessing"
      ],
      "metadata": {
        "colab": {
          "base_uri": "https://localhost:8080/"
        },
        "id": "h11sHssyZ729",
        "outputId": "bd78f383-8cb8-4b6a-d5d6-369f6c2d0b47"
      },
      "execution_count": 12,
      "outputs": [
        {
          "output_type": "stream",
          "name": "stdout",
          "text": [
            "Looking in indexes: https://pypi.org/simple, https://us-python.pkg.dev/colab-wheels/public/simple/\n",
            "Requirement already satisfied: Keras-Preprocessing in /usr/local/lib/python3.10/dist-packages (1.1.2)\n",
            "Requirement already satisfied: six>=1.9.0 in /usr/local/lib/python3.10/dist-packages (from Keras-Preprocessing) (1.16.0)\n",
            "Requirement already satisfied: numpy>=1.9.1 in /usr/local/lib/python3.10/dist-packages (from Keras-Preprocessing) (1.22.4)\n"
          ]
        }
      ]
    },
    {
      "cell_type": "code",
      "source": [
        "import warnings\n",
        "warnings.filterwarnings('ignore')\n",
        "import string\n",
        "import re\n",
        "from unicodedata import normalize\n",
        "import numpy as np\n",
        "from keras.preprocessing.text import Tokenizer\n",
        "from keras_preprocessing.sequence import pad_sequences\n",
        "from keras.utils import to_categorical\n",
        "from keras.models import Sequential,load_model\n",
        "from keras.layers import LSTM,Dense,Embedding,RepeatVector,TimeDistributed\n",
        "from keras.callbacks import EarlyStopping\n",
        "from keras.preprocessing.text import Tokenizer\n",
        "from keras_preprocessing.sequence import pad_sequences\n",
        "from nltk.translate.bleu_score import corpus_bleu\n",
        "import pandas as pd\n",
        "from string import punctuation\n",
        "import matplotlib.pyplot as plt\n",
        "from IPython.display import Markdown, display\n",
        "def printmd(string):\n",
        "    # Print with Markdowns    \n",
        "    display(Markdown(string))"
      ],
      "metadata": {
        "id": "hdZsvVK8sV5n"
      },
      "execution_count": 13,
      "outputs": []
    },
    {
      "cell_type": "code",
      "source": [
        "dataset = data.sample(frac=1, random_state=0)\n",
        "dataset.iloc[1000:1010]"
      ],
      "metadata": {
        "colab": {
          "base_uri": "https://localhost:8080/",
          "height": 363
        },
        "id": "h3nfbTdNscBG",
        "outputId": "67e06a05-bab6-49dd-fa8f-88d6ff1e6924"
      },
      "execution_count": 14,
      "outputs": [
        {
          "output_type": "execute_result",
          "data": {
            "text/plain": [
              "                                                 English  \\\n",
              "49563  Older students should attend now and there is ...   \n",
              "49733  \"I didn't want to investigate in case it was s...   \n",
              "87086  Perhaps we could simply all try it together on...   \n",
              "97372  \"If it's not against Iran, then who is it agai...   \n",
              "11049  The dollar index, which tracks the greenback a...   \n",
              "85351                              Perhaps I never will.   \n",
              "27506  Yes, Mr MacCormick, because according to my in...   \n",
              "66891                            You'll see them again.\"   \n",
              "10561  There is simply less room for blokes who put 2...   \n",
              "31701                          Let's get rid of Zarqawi.   \n",
              "\n",
              "                                                    Urdu  \n",
              "49563  پرانے طالبعلم اب یہاں حاضری دیں اور نئے طالبعل...  \n",
              "49733  \"میں اس معاملے میں تفتیش نہیں کرنا چاہتا تھا ک...  \n",
              "87086  مسٹر صدر ، شاید ہم سب مل کر ایک بار پھر کوشش ک...  \n",
              "97372  \"اگر یہ ایران کے خلاف نہیں ہے تو پھر یہ کس کے ...  \n",
              "11049  ڈالر انڈیکس ، جو اپنے ہم عمر افراد کی ٹوکری کے...  \n",
              "85351                        شاید میں کبھی نہیں کروں گا۔  \n",
              "27506  ہاں ، مسٹر میک میکرک ، کیوں کہ میری معلومات کے...  \n",
              "66891                       آپ انہیں دوبارہ دیکھیں گے۔ \"  \n",
              "10561  بلیک کے لئے صرف کم گنجائش ہے جو ہر ہفتے اپنے ج...  \n",
              "31701                       چلو زرقاوی سے تو جان چھوٹی ۔  "
            ],
            "text/html": [
              "\n",
              "  <div id=\"df-5810a280-c70b-4f44-89b4-acad290f9f86\">\n",
              "    <div class=\"colab-df-container\">\n",
              "      <div>\n",
              "<style scoped>\n",
              "    .dataframe tbody tr th:only-of-type {\n",
              "        vertical-align: middle;\n",
              "    }\n",
              "\n",
              "    .dataframe tbody tr th {\n",
              "        vertical-align: top;\n",
              "    }\n",
              "\n",
              "    .dataframe thead th {\n",
              "        text-align: right;\n",
              "    }\n",
              "</style>\n",
              "<table border=\"1\" class=\"dataframe\">\n",
              "  <thead>\n",
              "    <tr style=\"text-align: right;\">\n",
              "      <th></th>\n",
              "      <th>English</th>\n",
              "      <th>Urdu</th>\n",
              "    </tr>\n",
              "  </thead>\n",
              "  <tbody>\n",
              "    <tr>\n",
              "      <th>49563</th>\n",
              "      <td>Older students should attend now and there is ...</td>\n",
              "      <td>پرانے طالبعلم اب یہاں حاضری دیں اور نئے طالبعل...</td>\n",
              "    </tr>\n",
              "    <tr>\n",
              "      <th>49733</th>\n",
              "      <td>\"I didn't want to investigate in case it was s...</td>\n",
              "      <td>\"میں اس معاملے میں تفتیش نہیں کرنا چاہتا تھا ک...</td>\n",
              "    </tr>\n",
              "    <tr>\n",
              "      <th>87086</th>\n",
              "      <td>Perhaps we could simply all try it together on...</td>\n",
              "      <td>مسٹر صدر ، شاید ہم سب مل کر ایک بار پھر کوشش ک...</td>\n",
              "    </tr>\n",
              "    <tr>\n",
              "      <th>97372</th>\n",
              "      <td>\"If it's not against Iran, then who is it agai...</td>\n",
              "      <td>\"اگر یہ ایران کے خلاف نہیں ہے تو پھر یہ کس کے ...</td>\n",
              "    </tr>\n",
              "    <tr>\n",
              "      <th>11049</th>\n",
              "      <td>The dollar index, which tracks the greenback a...</td>\n",
              "      <td>ڈالر انڈیکس ، جو اپنے ہم عمر افراد کی ٹوکری کے...</td>\n",
              "    </tr>\n",
              "    <tr>\n",
              "      <th>85351</th>\n",
              "      <td>Perhaps I never will.</td>\n",
              "      <td>شاید میں کبھی نہیں کروں گا۔</td>\n",
              "    </tr>\n",
              "    <tr>\n",
              "      <th>27506</th>\n",
              "      <td>Yes, Mr MacCormick, because according to my in...</td>\n",
              "      <td>ہاں ، مسٹر میک میکرک ، کیوں کہ میری معلومات کے...</td>\n",
              "    </tr>\n",
              "    <tr>\n",
              "      <th>66891</th>\n",
              "      <td>You'll see them again.\"</td>\n",
              "      <td>آپ انہیں دوبارہ دیکھیں گے۔ \"</td>\n",
              "    </tr>\n",
              "    <tr>\n",
              "      <th>10561</th>\n",
              "      <td>There is simply less room for blokes who put 2...</td>\n",
              "      <td>بلیک کے لئے صرف کم گنجائش ہے جو ہر ہفتے اپنے ج...</td>\n",
              "    </tr>\n",
              "    <tr>\n",
              "      <th>31701</th>\n",
              "      <td>Let's get rid of Zarqawi.</td>\n",
              "      <td>چلو زرقاوی سے تو جان چھوٹی ۔</td>\n",
              "    </tr>\n",
              "  </tbody>\n",
              "</table>\n",
              "</div>\n",
              "      <button class=\"colab-df-convert\" onclick=\"convertToInteractive('df-5810a280-c70b-4f44-89b4-acad290f9f86')\"\n",
              "              title=\"Convert this dataframe to an interactive table.\"\n",
              "              style=\"display:none;\">\n",
              "        \n",
              "  <svg xmlns=\"http://www.w3.org/2000/svg\" height=\"24px\"viewBox=\"0 0 24 24\"\n",
              "       width=\"24px\">\n",
              "    <path d=\"M0 0h24v24H0V0z\" fill=\"none\"/>\n",
              "    <path d=\"M18.56 5.44l.94 2.06.94-2.06 2.06-.94-2.06-.94-.94-2.06-.94 2.06-2.06.94zm-11 1L8.5 8.5l.94-2.06 2.06-.94-2.06-.94L8.5 2.5l-.94 2.06-2.06.94zm10 10l.94 2.06.94-2.06 2.06-.94-2.06-.94-.94-2.06-.94 2.06-2.06.94z\"/><path d=\"M17.41 7.96l-1.37-1.37c-.4-.4-.92-.59-1.43-.59-.52 0-1.04.2-1.43.59L10.3 9.45l-7.72 7.72c-.78.78-.78 2.05 0 2.83L4 21.41c.39.39.9.59 1.41.59.51 0 1.02-.2 1.41-.59l7.78-7.78 2.81-2.81c.8-.78.8-2.07 0-2.86zM5.41 20L4 18.59l7.72-7.72 1.47 1.35L5.41 20z\"/>\n",
              "  </svg>\n",
              "      </button>\n",
              "      \n",
              "  <style>\n",
              "    .colab-df-container {\n",
              "      display:flex;\n",
              "      flex-wrap:wrap;\n",
              "      gap: 12px;\n",
              "    }\n",
              "\n",
              "    .colab-df-convert {\n",
              "      background-color: #E8F0FE;\n",
              "      border: none;\n",
              "      border-radius: 50%;\n",
              "      cursor: pointer;\n",
              "      display: none;\n",
              "      fill: #1967D2;\n",
              "      height: 32px;\n",
              "      padding: 0 0 0 0;\n",
              "      width: 32px;\n",
              "    }\n",
              "\n",
              "    .colab-df-convert:hover {\n",
              "      background-color: #E2EBFA;\n",
              "      box-shadow: 0px 1px 2px rgba(60, 64, 67, 0.3), 0px 1px 3px 1px rgba(60, 64, 67, 0.15);\n",
              "      fill: #174EA6;\n",
              "    }\n",
              "\n",
              "    [theme=dark] .colab-df-convert {\n",
              "      background-color: #3B4455;\n",
              "      fill: #D2E3FC;\n",
              "    }\n",
              "\n",
              "    [theme=dark] .colab-df-convert:hover {\n",
              "      background-color: #434B5C;\n",
              "      box-shadow: 0px 1px 3px 1px rgba(0, 0, 0, 0.15);\n",
              "      filter: drop-shadow(0px 1px 2px rgba(0, 0, 0, 0.3));\n",
              "      fill: #FFFFFF;\n",
              "    }\n",
              "  </style>\n",
              "\n",
              "      <script>\n",
              "        const buttonEl =\n",
              "          document.querySelector('#df-5810a280-c70b-4f44-89b4-acad290f9f86 button.colab-df-convert');\n",
              "        buttonEl.style.display =\n",
              "          google.colab.kernel.accessAllowed ? 'block' : 'none';\n",
              "\n",
              "        async function convertToInteractive(key) {\n",
              "          const element = document.querySelector('#df-5810a280-c70b-4f44-89b4-acad290f9f86');\n",
              "          const dataTable =\n",
              "            await google.colab.kernel.invokeFunction('convertToInteractive',\n",
              "                                                     [key], {});\n",
              "          if (!dataTable) return;\n",
              "\n",
              "          const docLinkHtml = 'Like what you see? Visit the ' +\n",
              "            '<a target=\"_blank\" href=https://colab.research.google.com/notebooks/data_table.ipynb>data table notebook</a>'\n",
              "            + ' to learn more about interactive tables.';\n",
              "          element.innerHTML = '';\n",
              "          dataTable['output_type'] = 'display_data';\n",
              "          await google.colab.output.renderOutput(dataTable, element);\n",
              "          const docLink = document.createElement('div');\n",
              "          docLink.innerHTML = docLinkHtml;\n",
              "          element.appendChild(docLink);\n",
              "        }\n",
              "      </script>\n",
              "    </div>\n",
              "  </div>\n",
              "  "
            ]
          },
          "metadata": {},
          "execution_count": 14
        }
      ]
    },
    {
      "cell_type": "code",
      "source": [
        "total_sentences = 1000\n",
        "test_proportion = 0.1\n",
        "train_test_threshold = int( (1-test_proportion) * total_sentences)\n",
        "\n",
        "printmd(f'## {total_sentences} \"parallel sentences\" will be loaded (original sentence + its translation)')\n",
        "printmd(f'## {train_test_threshold} \"parallel sentences\" will be used to train the model')\n",
        "printmd(f'## {total_sentences-train_test_threshold} \"parallel sentences\" will be used to test the model')"
      ],
      "metadata": {
        "colab": {
          "base_uri": "https://localhost:8080/",
          "height": 151
        },
        "id": "pX1wyBU3sfFG",
        "outputId": "7c7a0c85-9b2f-4e60-9349-8e84b795a3ef"
      },
      "execution_count": 15,
      "outputs": [
        {
          "output_type": "display_data",
          "data": {
            "text/plain": [
              "<IPython.core.display.Markdown object>"
            ],
            "text/markdown": "## 1000 \"parallel sentences\" will be loaded (original sentence + its translation)"
          },
          "metadata": {}
        },
        {
          "output_type": "display_data",
          "data": {
            "text/plain": [
              "<IPython.core.display.Markdown object>"
            ],
            "text/markdown": "## 900 \"parallel sentences\" will be used to train the model"
          },
          "metadata": {}
        },
        {
          "output_type": "display_data",
          "data": {
            "text/plain": [
              "<IPython.core.display.Markdown object>"
            ],
            "text/markdown": "## 100 \"parallel sentences\" will be used to test the model"
          },
          "metadata": {}
        }
      ]
    },
    {
      "cell_type": "code",
      "source": [
        "def clean(string):\n",
        "    # Clean the string\n",
        "    string = str(string).replace(\"\\u202f\",\" \") # Replace no-break space with space\n",
        "    string = string.lower()\n",
        "    \n",
        "    # Delete the punctuation and the numbers\n",
        "    for p in punctuation + \"«»\" + \"0123456789\":\n",
        "        string = string.replace(p,\" \")\n",
        "        \n",
        "    string = re.sub('\\s+',' ', string)\n",
        "    string = string.strip()\n",
        "           \n",
        "    return string\n",
        "\n",
        "\n",
        "# Clean the sentences\n",
        "dataset[\"English\"] = dataset[\"English\"].apply(lambda x: clean(x))\n",
        "dataset[\"Urdu\"] = dataset[\"Urdu\"].apply(lambda x: clean(x))\n",
        "\n",
        "# Select one part of the dataset\n",
        "dataset = dataset.values\n",
        "dataset = dataset[:total_sentences]\n",
        "\n",
        "# split into train/test\n",
        "train, test = dataset[:train_test_threshold], dataset[train_test_threshold:]\n",
        "\n",
        "# Define the name of the source and of the target\n",
        "# This will be used in the outputs of this notebook\n",
        "source_str, target_str = \"Urdu\", \"English\"\n",
        "\n",
        "# The index in the numpy array of the source and of the target\n",
        "idx_src, idx_tar = 1, 0"
      ],
      "metadata": {
        "id": "IIS8dAxWs1xm"
      },
      "execution_count": 16,
      "outputs": []
    },
    {
      "cell_type": "code",
      "source": [
        "pd.DataFrame(dataset[1000:1010])"
      ],
      "metadata": {
        "colab": {
          "base_uri": "https://localhost:8080/",
          "height": 49
        },
        "id": "LkqJpEqQtNHP",
        "outputId": "31b4cf1a-9b0a-499c-8867-647061e4d6fe"
      },
      "execution_count": 17,
      "outputs": [
        {
          "output_type": "execute_result",
          "data": {
            "text/plain": [
              "Empty DataFrame\n",
              "Columns: [0, 1]\n",
              "Index: []"
            ],
            "text/html": [
              "\n",
              "  <div id=\"df-c4ca537a-30e0-4340-8972-50a1c324cb13\">\n",
              "    <div class=\"colab-df-container\">\n",
              "      <div>\n",
              "<style scoped>\n",
              "    .dataframe tbody tr th:only-of-type {\n",
              "        vertical-align: middle;\n",
              "    }\n",
              "\n",
              "    .dataframe tbody tr th {\n",
              "        vertical-align: top;\n",
              "    }\n",
              "\n",
              "    .dataframe thead th {\n",
              "        text-align: right;\n",
              "    }\n",
              "</style>\n",
              "<table border=\"1\" class=\"dataframe\">\n",
              "  <thead>\n",
              "    <tr style=\"text-align: right;\">\n",
              "      <th></th>\n",
              "      <th>0</th>\n",
              "      <th>1</th>\n",
              "    </tr>\n",
              "  </thead>\n",
              "  <tbody>\n",
              "  </tbody>\n",
              "</table>\n",
              "</div>\n",
              "      <button class=\"colab-df-convert\" onclick=\"convertToInteractive('df-c4ca537a-30e0-4340-8972-50a1c324cb13')\"\n",
              "              title=\"Convert this dataframe to an interactive table.\"\n",
              "              style=\"display:none;\">\n",
              "        \n",
              "  <svg xmlns=\"http://www.w3.org/2000/svg\" height=\"24px\"viewBox=\"0 0 24 24\"\n",
              "       width=\"24px\">\n",
              "    <path d=\"M0 0h24v24H0V0z\" fill=\"none\"/>\n",
              "    <path d=\"M18.56 5.44l.94 2.06.94-2.06 2.06-.94-2.06-.94-.94-2.06-.94 2.06-2.06.94zm-11 1L8.5 8.5l.94-2.06 2.06-.94-2.06-.94L8.5 2.5l-.94 2.06-2.06.94zm10 10l.94 2.06.94-2.06 2.06-.94-2.06-.94-.94-2.06-.94 2.06-2.06.94z\"/><path d=\"M17.41 7.96l-1.37-1.37c-.4-.4-.92-.59-1.43-.59-.52 0-1.04.2-1.43.59L10.3 9.45l-7.72 7.72c-.78.78-.78 2.05 0 2.83L4 21.41c.39.39.9.59 1.41.59.51 0 1.02-.2 1.41-.59l7.78-7.78 2.81-2.81c.8-.78.8-2.07 0-2.86zM5.41 20L4 18.59l7.72-7.72 1.47 1.35L5.41 20z\"/>\n",
              "  </svg>\n",
              "      </button>\n",
              "      \n",
              "  <style>\n",
              "    .colab-df-container {\n",
              "      display:flex;\n",
              "      flex-wrap:wrap;\n",
              "      gap: 12px;\n",
              "    }\n",
              "\n",
              "    .colab-df-convert {\n",
              "      background-color: #E8F0FE;\n",
              "      border: none;\n",
              "      border-radius: 50%;\n",
              "      cursor: pointer;\n",
              "      display: none;\n",
              "      fill: #1967D2;\n",
              "      height: 32px;\n",
              "      padding: 0 0 0 0;\n",
              "      width: 32px;\n",
              "    }\n",
              "\n",
              "    .colab-df-convert:hover {\n",
              "      background-color: #E2EBFA;\n",
              "      box-shadow: 0px 1px 2px rgba(60, 64, 67, 0.3), 0px 1px 3px 1px rgba(60, 64, 67, 0.15);\n",
              "      fill: #174EA6;\n",
              "    }\n",
              "\n",
              "    [theme=dark] .colab-df-convert {\n",
              "      background-color: #3B4455;\n",
              "      fill: #D2E3FC;\n",
              "    }\n",
              "\n",
              "    [theme=dark] .colab-df-convert:hover {\n",
              "      background-color: #434B5C;\n",
              "      box-shadow: 0px 1px 3px 1px rgba(0, 0, 0, 0.15);\n",
              "      filter: drop-shadow(0px 1px 2px rgba(0, 0, 0, 0.3));\n",
              "      fill: #FFFFFF;\n",
              "    }\n",
              "  </style>\n",
              "\n",
              "      <script>\n",
              "        const buttonEl =\n",
              "          document.querySelector('#df-c4ca537a-30e0-4340-8972-50a1c324cb13 button.colab-df-convert');\n",
              "        buttonEl.style.display =\n",
              "          google.colab.kernel.accessAllowed ? 'block' : 'none';\n",
              "\n",
              "        async function convertToInteractive(key) {\n",
              "          const element = document.querySelector('#df-c4ca537a-30e0-4340-8972-50a1c324cb13');\n",
              "          const dataTable =\n",
              "            await google.colab.kernel.invokeFunction('convertToInteractive',\n",
              "                                                     [key], {});\n",
              "          if (!dataTable) return;\n",
              "\n",
              "          const docLinkHtml = 'Like what you see? Visit the ' +\n",
              "            '<a target=\"_blank\" href=https://colab.research.google.com/notebooks/data_table.ipynb>data table notebook</a>'\n",
              "            + ' to learn more about interactive tables.';\n",
              "          element.innerHTML = '';\n",
              "          dataTable['output_type'] = 'display_data';\n",
              "          await google.colab.output.renderOutput(dataTable, element);\n",
              "          const docLink = document.createElement('div');\n",
              "          docLink.innerHTML = docLinkHtml;\n",
              "          element.appendChild(docLink);\n",
              "        }\n",
              "      </script>\n",
              "    </div>\n",
              "  </div>\n",
              "  "
            ]
          },
          "metadata": {},
          "execution_count": 17
        }
      ]
    },
    {
      "cell_type": "code",
      "source": [
        "import tensorflow as tf\n",
        "from tensorflow.python.keras import backend as K\n",
        "\n",
        "# adjust values to your needs\n",
        "config = tf.compat.v1.ConfigProto( device_count = {'GPU': 0 , 'CPU': 4} )\n",
        "sess = tf.compat.v1.Session(config=config) \n",
        "K.set_session(sess)"
      ],
      "metadata": {
        "id": "6bw05piYtQl1"
      },
      "execution_count": 18,
      "outputs": []
    },
    {
      "cell_type": "code",
      "source": [
        "def create_tokenizer(lines):\n",
        "    # fit a tokenizer\n",
        "    tokenizer = Tokenizer()\n",
        "    tokenizer.fit_on_texts(lines)\n",
        "    return tokenizer\n",
        " \n",
        "def max_len(lines):\n",
        "    # max sentence length\n",
        "    return max(len(line.split()) for line in lines)\n",
        "\n",
        "def encode_sequences(tokenizer, length, lines):\n",
        "    # encode and pad sequences\n",
        "    X = tokenizer.texts_to_sequences(lines) # integer encode sequences\n",
        "    X = pad_sequences(X, maxlen=length, padding='post') # pad sequences with 0 values\n",
        "    return X\n",
        " \n",
        "def encode_output(sequences, vocab_size):\n",
        "    # one hot encode target sequence\n",
        "    ylist = list()\n",
        "    for sequence in sequences:\n",
        "        encoded = to_categorical(sequence, num_classes=vocab_size)\n",
        "        ylist.append(encoded)\n",
        "    y = np.array(ylist)\n",
        "    y = y.reshape(sequences.shape[0], sequences.shape[1], vocab_size)\n",
        "    return y\n",
        " \n",
        "# Prepare target tokenizer\n",
        "tar_tokenizer = create_tokenizer(dataset[:, idx_tar])\n",
        "tar_vocab_size = len(tar_tokenizer.word_index) + 1\n",
        "tar_length = max_len(dataset[:, idx_tar])\n",
        "printmd(f'\\nTarget ({target_str}) Vocabulary Size: {tar_vocab_size}')\n",
        "printmd(f'Target ({target_str}) Max Length: {tar_length}')\n",
        "\n",
        "# Prepare source tokenizer\n",
        "src_tokenizer = create_tokenizer(dataset[:, idx_src])\n",
        "src_vocab_size = len(src_tokenizer.word_index) + 1\n",
        "src_length = max_len(dataset[:, idx_src])\n",
        "printmd(f'\\nSource ({source_str}) Vocabulary Size: {src_vocab_size}')\n",
        "printmd(f'Source ({source_str}) Max Length: {src_length}\\n')\n",
        " \n",
        "# Prepare training data\n",
        "trainX = encode_sequences(src_tokenizer, src_length, train[:, idx_src])\n",
        "trainY = encode_sequences(tar_tokenizer, tar_length, train[:, idx_tar])\n",
        "trainY = encode_output(trainY, tar_vocab_size)\n",
        "\n",
        "# Prepare test data\n",
        "testX = encode_sequences(src_tokenizer, src_length, test[:, idx_src])\n",
        "testY = encode_sequences(tar_tokenizer, tar_length, test[:, idx_tar])\n",
        "testY = encode_output(testY, tar_vocab_size)"
      ],
      "metadata": {
        "colab": {
          "base_uri": "https://localhost:8080/",
          "height": 116
        },
        "id": "cVP5EvYT4aCz",
        "outputId": "37f93e04-bd07-4fbe-82ed-ad228d829b7c"
      },
      "execution_count": 19,
      "outputs": [
        {
          "output_type": "display_data",
          "data": {
            "text/plain": [
              "<IPython.core.display.Markdown object>"
            ],
            "text/markdown": "\nTarget (English) Vocabulary Size: 3872"
          },
          "metadata": {}
        },
        {
          "output_type": "display_data",
          "data": {
            "text/plain": [
              "<IPython.core.display.Markdown object>"
            ],
            "text/markdown": "Target (English) Max Length: 28"
          },
          "metadata": {}
        },
        {
          "output_type": "display_data",
          "data": {
            "text/plain": [
              "<IPython.core.display.Markdown object>"
            ],
            "text/markdown": "\nSource (Urdu) Vocabulary Size: 3809"
          },
          "metadata": {}
        },
        {
          "output_type": "display_data",
          "data": {
            "text/plain": [
              "<IPython.core.display.Markdown object>"
            ],
            "text/markdown": "Source (Urdu) Max Length: 98\n"
          },
          "metadata": {}
        }
      ]
    },
    {
      "cell_type": "code",
      "source": [
        "def create_model(src_vocab, tar_vocab, src_timesteps, tar_timesteps, n_units):\n",
        "    # Create the model\n",
        "    model = Sequential()\n",
        "    model.add(Embedding(src_vocab, n_units, input_length=src_timesteps, mask_zero=True))\n",
        "    model.add(LSTM(n_units))\n",
        "    model.add(RepeatVector(tar_timesteps))\n",
        "    model.add(LSTM(n_units, return_sequences=True))\n",
        "    model.add(TimeDistributed(Dense(tar_vocab, activation='softmax')))\n",
        "    return model\n",
        " \n",
        "# Create model\n",
        "model = create_model(src_vocab_size, tar_vocab_size, src_length, tar_length, 256)\n",
        "model.compile(optimizer='adam', loss='categorical_crossentropy')\n",
        "\n",
        "history = model.fit(trainX, \n",
        "          trainY, \n",
        "          epochs=200, \n",
        "          batch_size=64, \n",
        "          validation_split=0.1, \n",
        "          verbose=1,\n",
        "          callbacks=[\n",
        "                        EarlyStopping(\n",
        "                        monitor='val_loss',\n",
        "                        patience=2,\n",
        "                        restore_best_weights=True\n",
        "                    )\n",
        "            ])"
      ],
      "metadata": {
        "colab": {
          "base_uri": "https://localhost:8080/"
        },
        "id": "UULaObOF4giv",
        "outputId": "f6482a02-39cf-4fd8-dba8-0dc2853314a9"
      },
      "execution_count": 20,
      "outputs": [
        {
          "output_type": "stream",
          "name": "stdout",
          "text": [
            "Epoch 1/200\n",
            "13/13 [==============================] - 45s 3s/step - loss: 7.1183 - val_loss: 4.4358\n",
            "Epoch 2/200\n",
            "13/13 [==============================] - 24s 2s/step - loss: 3.9909 - val_loss: 4.1542\n",
            "Epoch 3/200\n",
            "13/13 [==============================] - 20s 2s/step - loss: 3.8631 - val_loss: 4.1420\n",
            "Epoch 4/200\n",
            "13/13 [==============================] - 22s 2s/step - loss: 3.7460 - val_loss: 4.0522\n",
            "Epoch 5/200\n",
            "13/13 [==============================] - 22s 2s/step - loss: 3.6321 - val_loss: 3.9461\n",
            "Epoch 6/200\n",
            "13/13 [==============================] - 24s 2s/step - loss: 3.6019 - val_loss: 3.8817\n",
            "Epoch 7/200\n",
            "13/13 [==============================] - 20s 2s/step - loss: 3.5268 - val_loss: 3.8338\n",
            "Epoch 8/200\n",
            "13/13 [==============================] - 22s 2s/step - loss: 3.4816 - val_loss: 3.8356\n",
            "Epoch 9/200\n",
            "13/13 [==============================] - 20s 2s/step - loss: 3.4576 - val_loss: 3.7458\n",
            "Epoch 10/200\n",
            "13/13 [==============================] - 20s 2s/step - loss: 3.4594 - val_loss: 3.8449\n",
            "Epoch 11/200\n",
            "13/13 [==============================] - 21s 2s/step - loss: 3.5137 - val_loss: 3.8005\n"
          ]
        }
      ]
    },
    {
      "cell_type": "code",
      "source": [
        "pd.DataFrame(history.history).plot()\n",
        "plt.title(\"Loss\")\n",
        "plt.show()"
      ],
      "metadata": {
        "colab": {
          "base_uri": "https://localhost:8080/",
          "height": 452
        },
        "id": "Dzc7U9Qi4l_A",
        "outputId": "63e53068-697e-42c7-8e14-51111fe12baf"
      },
      "execution_count": 21,
      "outputs": [
        {
          "output_type": "display_data",
          "data": {
            "text/plain": [
              "<Figure size 640x480 with 1 Axes>"
            ],
            "image/png": "[encoded data removed]"
          },
          "metadata": {}
        }
      ]
    },
    {
      "cell_type": "code",
      "source": [],
      "metadata": {
        "id": "q6TBGAi25pGR"
      },
      "execution_count": null,
      "outputs": []
    }
  ]
}